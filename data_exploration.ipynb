{
 "cells": [
  {
   "cell_type": "code",
   "execution_count": 1,
   "metadata": {},
   "outputs": [],
   "source": [
    "import re\n",
    "def normalize_name(name):\n",
    "    name = name.lower()\n",
    "    name = re.sub(r\"[.,\\[\\]\\/#!$%\\^\\*;:{}=\\_`~()@<>]\", \" \", name)\n",
    "    name = re.sub(r\"\\s+\", \" \", name).strip()\n",
    "    return name"
   ]
  },
  {
   "cell_type": "code",
   "execution_count": 4,
   "metadata": {},
   "outputs": [],
   "source": [
    "import json\n",
    "import pandas as pd\n",
    "from tqdm import tqdm\n",
    "import torch\n",
    "import os\n",
    "from collections import Counter, OrderedDict\n",
    "import matplotlib"
   ]
  },
  {
   "cell_type": "code",
   "execution_count": 5,
   "metadata": {},
   "outputs": [],
   "source": [
    "def title_visualize(pairs):\n",
    "    min_length = 0\n",
    "    title_len = [len(pair[1].split(' ') if not pair[1]=='' else []) for pair in pairs if len(pair[1].split(' '))>=min_length]\n",
    "    title_len_avg = sum(title_len)/len(title_len)\n",
    "    title_len_counts = Counter(sorted(title_len))\n",
    "    min_len = 0 #min(title_len)\n",
    "    max_len = 21 #max(title_len)\n",
    "    for l in range(min_len, max_len+1):\n",
    "        if not title_len_counts.get(l):\n",
    "            title_len_counts[l] = 0\n",
    "    title_len_counts = OrderedDict(sorted(title_len_counts.items()))\n",
    "    df = pd.DataFrame.from_dict(title_len_counts, orient='index')\n",
    "    print('# of playlist with title length >= {}: '.format(min_length), len(title_len))\n",
    "    print('title length average: ', title_len_avg)\n",
    "    axes = df.plot(kind='bar', figsize=(7, 4.8), fontsize=14, width=0.8) #\n",
    "    axes.set_xlabel('Title length', fontsize=20, labelpad=7)\n",
    "    matplotlib.pyplot.xticks(rotation = 45)\n",
    "    axes.set_ylabel('Number of playlists', fontsize=20, labelpad=10)\n",
    "    axes.legend().remove()\n",
    "    \n",
    "def track_visualize(pairs):\n",
    "    min_length = 0\n",
    "    song_len = [len(pair[0].split(' ') if not pair[0]=='' else []) for pair in pairs if len(pair[0].split(' '))>=min_length]\n",
    "    song_len_avg = sum(song_len)/len(song_len)\n",
    "    song_len_counts = Counter(sorted(song_len))\n",
    "    df = pd.DataFrame.from_dict(song_len_counts, orient='index')\n",
    "    print('# of playlist with songs length >= {}: '.format(min_length), len(song_len))\n",
    "    print('song length average: ', song_len_avg)\n",
    "    axes = df.plot(kind='bar', figsize=(50, 20), fontsize=55, style='italic')\n",
    "    axes.xaxis.set_major_locator(matplotlib.ticker.MultipleLocator(25))\n",
    "    axes.tick_params(axis='x', which='major', pad=10)\n",
    "    axes.set_xlabel('Number of tracks', fontsize=80, labelpad=20)\n",
    "    matplotlib.pyplot.xticks(rotation = 45)\n",
    "    axes.set_ylabel('Number of playlists', fontsize=80, labelpad=20)\n",
    "    axes.legend().remove()"
   ]
  },
  {
   "cell_type": "code",
   "execution_count": null,
   "metadata": {},
   "outputs": [],
   "source": [
    "# Data Loader\n",
    "melon_train = pd.read_json(os.path.join(\"../dataset/split/melon/\", \"train.json\"))\n",
    "melon_val = pd.read_json(os.path.join(\"../dataset/source/melon/\", \"val.json\"))\n",
    "melon_test = pd.read_json(os.path.join(\"../dataset/source/melon/\", \"test.json\"))\n",
    "\n",
    "melon_playlist = pd.concat([melon_train, melon_val, melon_test], axis=0)\n",
    "pairs = []\n",
    "for idx, ply in tqdm(melon_playlist.iterrows()):\n",
    "    track_list = ' '.join(list(map(str, ply['songs']))) if not ply['songs']==[] else ''\n",
    "    title_token = normalize_name(ply['plylst_title']) #ply['name'].lower().strip()\n",
    "    pairs.append([track_list, title_token])"
   ]
  },
  {
   "cell_type": "code",
   "execution_count": null,
   "metadata": {},
   "outputs": [],
   "source": [
    "title_visualize(pairs)"
   ]
  },
  {
   "cell_type": "code",
   "execution_count": null,
   "metadata": {},
   "outputs": [],
   "source": [
    "track_visualize(pairs)"
   ]
  },
  {
   "cell_type": "code",
   "execution_count": null,
   "metadata": {},
   "outputs": [],
   "source": [
    "melon_filtered = torch.load(\"../dataset/split/melon_filtered.pt\")"
   ]
  },
  {
   "cell_type": "code",
   "execution_count": null,
   "metadata": {},
   "outputs": [],
   "source": [
    "pairs = []\n",
    "for idx, ply in tqdm(enumerate(melon_filtered)):\n",
    "    track_list = ' '.join(list(map(str, ply['songs']))) if not ply['songs']==[] else ''\n",
    "    title_token = normalize_name(ply['plylst_title']) #ply['name'].lower().strip()\n",
    "    pairs.append([track_list, title_token])"
   ]
  },
  {
   "cell_type": "code",
   "execution_count": null,
   "metadata": {},
   "outputs": [],
   "source": [
    "title_visualize(pairs)"
   ]
  },
  {
   "cell_type": "code",
   "execution_count": null,
   "metadata": {},
   "outputs": [],
   "source": [
    "track_visualize(pairs)"
   ]
  }
 ],
 "metadata": {
  "kernelspec": {
   "display_name": "nlp-venv",
   "language": "python",
   "name": "python3"
  },
  "language_info": {
   "codemirror_mode": {
    "name": "ipython",
    "version": 3
   },
   "file_extension": ".py",
   "mimetype": "text/x-python",
   "name": "python",
   "nbconvert_exporter": "python",
   "pygments_lexer": "ipython3",
   "version": "3.12.0"
  }
 },
 "nbformat": 4,
 "nbformat_minor": 2
}
