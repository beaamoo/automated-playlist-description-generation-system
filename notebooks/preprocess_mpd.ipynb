{
 "cells": [
  {
   "cell_type": "markdown",
   "metadata": {},
   "source": [
    "# Automated Playlist Description Generation (APDG) Preprocessing Notebook\n",
    "\n",
    "This notebook outlines the process for fetching and preprocessing the Spotify Million Playlist Dataset (MPD) to prepare it for training a model capable of generating playlist descriptions. The preprocessing steps are based on criteria outlined in a recent study, focusing on playlist titles that incorporate common features among the songs."
   ]
  },
  {
   "cell_type": "markdown",
   "metadata": {},
   "source": [
    "## Setup and Imports\n",
    "This section imports necessary libraries and defines the setup for our preprocessing task."
   ]
  },
  {
   "cell_type": "code",
   "execution_count": 13,
   "metadata": {},
   "outputs": [],
   "source": [
    "import json\n",
    "import os\n",
    "from itertools import islice\n",
    "import numpy as np\n",
    "from sklearn.model_selection import train_test_split"
   ]
  },
  {
   "cell_type": "markdown",
   "metadata": {},
   "source": [
    "## Fetching Data\n",
    "Due to the large size of the Spotify Million Playlist Dataset, it is typically downloaded manually from the Spotify research website and extracted into a local directory. This section assumes that the dataset is already available locally.\n",
    "\n",
    "Note: Since the Spotify Million Playlist Dataset is large (several GBs), it's typically downloaded manually from the Spotify research website and extracted to a local directory. The following step assumes you have already downloaded and extracted the dataset."
   ]
  },
  {
   "cell_type": "markdown",
   "metadata": {},
   "source": [
    "## Load Dataset\n",
    "\n",
    "This section includes the function load_spotify_dataset(directory_path), which loads the playlists from the Spotify Million Playlist Dataset from a specified directory. Each playlist in the dataset includes a unique identifier, the playlist title, and a list of track URIs."
   ]
  },
  {
   "cell_type": "code",
   "execution_count": 2,
   "metadata": {},
   "outputs": [],
   "source": [
    "def load_mpd_dataset(directory_path, max_files=None):\n",
    "    json_files = (file for file in os.listdir(directory_path) if file.endswith('.json'))\n",
    "    playlists = []\n",
    "\n",
    "    for filename in islice(json_files, max_files):\n",
    "        with open(os.path.join(directory_path, filename), 'r') as f:\n",
    "            data = json.load(f)\n",
    "            playlists.extend(data['playlists'])\n",
    "\n",
    "    return playlists\n",
    "\n",
    "# Path to the dataset\n",
    "dataset_path = \"/Users/bestricemossberg/Projects/automated-playlist-description-generation-system/spotify_million_playlist_dataset/data\"\n",
    "\n",
    "# Load a limited dataset for testing (e.g., only the first 50 files)\n",
    "playlists = load_mpd_dataset(dataset_path, max_files=50)"
   ]
  },
  {
   "cell_type": "markdown",
   "metadata": {},
   "source": [
    "## Preprocess Dataset\n",
    "\n",
    "The function preprocess_playlists(playlists) filters the playlists based on several criteria:\n",
    "\n",
    "- The number of tracks in the playlist must be more than 10.\n",
    "- The playlist title must have more than 3 tokens.\n",
    "- The average character length of title tokens must be more than 3.\n",
    "- Titles are normalized to lowercase to ensure consistency.\n",
    "\n",
    "This section aims to refine the dataset by removing playlists that do not meet these criteria, reducing noise and improving the quality of our training data."
   ]
  },
  {
   "cell_type": "code",
   "execution_count": 14,
   "metadata": {},
   "outputs": [],
   "source": [
    "# Preprocess the playlists\n",
    "def preprocess_playlists(playlists):\n",
    "    return [\n",
    "        {\n",
    "            'pid': playlist['pid'],\n",
    "            'name': playlist['name'].lower(),\n",
    "            'description': playlist['description'].lower(),\n",
    "            'tracks': [track['track_uri'] for track in playlist['tracks']]\n",
    "        }\n",
    "        for playlist in playlists\n",
    "        if \"description\" in playlist and \"name\" in playlist and len(playlist['tracks']) > 10 # Filter out playlists with less than 10 tracks\n",
    "        and len((tokens := playlist['description'].split())) > 3 # Filter out playlists with less than 3 words in the description\n",
    "        and (char_length := sum(len(token) for token in tokens) / len(tokens)) > 3 # Filter out playlists with less than 3 characters per word in the description\n",
    "    ]\n",
    "\n",
    "preprocessed_playlists = preprocess_playlists(playlists)"
   ]
  },
  {
   "cell_type": "code",
   "execution_count": 11,
   "metadata": {},
   "outputs": [
    {
     "data": {
      "text/plain": [
       "{'pid': 549056,\n",
       " 'name': 'indie vibes',\n",
       " 'description': 'that good summer vibe feeling &lt;3',\n",
       " 'tracks': ['spotify:track:0GO8y8jQk1PkHzS31d699N',\n",
       "  'spotify:track:1lbWbnWiEbAya5FlCzfsrq',\n",
       "  'spotify:track:3bhhM8sG53lsPYRpakieZB',\n",
       "  'spotify:track:5DfWswkGoWTEUJrflSC9hN',\n",
       "  'spotify:track:316r1KLN0bcmpr7TZcMCXT',\n",
       "  'spotify:track:4WiiRw2PHMNQE0ad6y6GdD',\n",
       "  'spotify:track:5vgdeMt4uKUN2BeltZjoDh',\n",
       "  'spotify:track:5CgihnZO9To8wj7ALOoTPD',\n",
       "  'spotify:track:51cd3bzVmLAjlnsSZn4ecW',\n",
       "  'spotify:track:6jrMVRReY24qzCfe1BRrww',\n",
       "  'spotify:track:2jnvdMCTvtdVCci3YLqxGY',\n",
       "  'spotify:track:0UeYCHOETPfai02uskjJ3x',\n",
       "  'spotify:track:4M1xxMtl43A2JBMYLeF9Gg',\n",
       "  'spotify:track:2EDuTLFathp2H49IfULO9G',\n",
       "  'spotify:track:1aGvLFHJ2shKqO9uycaUcW',\n",
       "  'spotify:track:5R9CJ2SnHywwwjGQwCLiIL',\n",
       "  'spotify:track:6PZ5g4V0DM1sILf1oLlS42',\n",
       "  'spotify:track:6SRdJTBk65cxlI87QfZmWw',\n",
       "  'spotify:track:3KIIwkf6lNwJqLcx6GUIzr',\n",
       "  'spotify:track:0FFTiimY7SZfLj2hPDOUl3',\n",
       "  'spotify:track:3pLTOP0G0etiWUknFoRpsr',\n",
       "  'spotify:track:5QldjuXcxplhjjUqLrzl6H',\n",
       "  'spotify:track:0vaf64cpnqM7COUZZkoBig',\n",
       "  'spotify:track:1Zqy9bervYUomy12Pbm3rP',\n",
       "  'spotify:track:5Fli1xRi01bvCjsZvKWro0',\n",
       "  'spotify:track:4VbDJMkAX3dWNBdn3KH6Wx',\n",
       "  'spotify:track:7tvOve5IkjYenvqScZ75iQ',\n",
       "  'spotify:track:2iUmqdfGZcHIhS3b9E9EWq',\n",
       "  'spotify:track:1fBl642IhJOE5U319Gy2Go',\n",
       "  'spotify:track:0K1KOCeJBj3lpDYxEX9qP2',\n",
       "  'spotify:track:2nuoQDYUO2k2p6KxUTO57S',\n",
       "  'spotify:track:1RX6K9yQuBugl1sgU5oIUO',\n",
       "  'spotify:track:5zazO4HccsT70HAaciF6V3',\n",
       "  'spotify:track:2kUMTWTiWg9gJjlyZdi9N9',\n",
       "  'spotify:track:6To2fU3EazmMNDR9hwNywO',\n",
       "  'spotify:track:5ZqsEykoe6F65cDg210QL4',\n",
       "  'spotify:track:3tZwKujD64Ad6vlDVxZOrg',\n",
       "  'spotify:track:74OPbAeDYrpKJL4IlBiHxm',\n",
       "  'spotify:track:3bf87vxatBoY88DeYMdt6D',\n",
       "  'spotify:track:4O2hkj8lSH4PVqXotkzdOk',\n",
       "  'spotify:track:38A6tRox1bzFrziYw5BcSg',\n",
       "  'spotify:track:1gpLfrnYqPDSSTXS5244Fc',\n",
       "  'spotify:track:3JQokJApeFCVgzANGNRP8N',\n",
       "  'spotify:track:7IDKIfRltN07TdsdTVtRHh',\n",
       "  'spotify:track:3dXjAh7UEuCJnLIeFKNkxd',\n",
       "  'spotify:track:61IRTJmJRCsnQVmIpu7egA',\n",
       "  'spotify:track:4prEPl61C8qZpeo3IkYSMl',\n",
       "  'spotify:track:2NvAdwDIQ71uXIWZkr6tIO',\n",
       "  'spotify:track:5bxythiVpxTD2nHZMmD8m1',\n",
       "  'spotify:track:2bXGRGKziIwa0msWlMoZ7w',\n",
       "  'spotify:track:52dlnJj2OE27ZvfpyvXD3t',\n",
       "  'spotify:track:1vlXU4TwppxOYXd50pQWzJ',\n",
       "  'spotify:track:2ihCaVdNZmnHZWt0fvAM7B',\n",
       "  'spotify:track:6Z8R6UsFuGXGtiIxiD8ISb',\n",
       "  'spotify:track:44F9Thk1ELXAbE2sY3zL8W',\n",
       "  'spotify:track:0qWXn9chI5lcRFAYjiiDIg',\n",
       "  'spotify:track:4G0X1ZuARKU2xno3IBJx95',\n",
       "  'spotify:track:0qYCfSjmxr0vRnrmk6cKF5',\n",
       "  'spotify:track:1UqhkbzB1kuFwt2iy4h29Q',\n",
       "  'spotify:track:4c9WmjVlQMr0s1IjbYO52Z',\n",
       "  'spotify:track:6uphlOdyLfhfe1ReSeiiz3',\n",
       "  'spotify:track:1SniLCGHvhHJAiGe3hLboq',\n",
       "  'spotify:track:2Ecl3r2ncoEfZhikZ5ejIi',\n",
       "  'spotify:track:2XWxizJ1QUcHAO30hVYYNM',\n",
       "  'spotify:track:7H8fBamGUheu0DSpp3pj03',\n",
       "  'spotify:track:2X8DqCikgiVk3214hbHEpz',\n",
       "  'spotify:track:7IvZkmjsAW9t2QutuajQmo',\n",
       "  'spotify:track:0RHCkpiQtUcC6aEhjhLL1D',\n",
       "  'spotify:track:4jpsjVOcUj9fVfqP72hSga',\n",
       "  'spotify:track:1vyrrrnb7182SL6iOMor3O',\n",
       "  'spotify:track:6O6M7pJLABmfBRoGZMu76Y',\n",
       "  'spotify:track:3PHAN9g1qziYB16D7Vs91A',\n",
       "  'spotify:track:2AgiH9n8cXo0csSkEhByKe',\n",
       "  'spotify:track:3AsAuGTaDQzavZZThyYlop',\n",
       "  'spotify:track:5L95vS64rG1YMIFm1hLjyZ',\n",
       "  'spotify:track:41yIvlFgvGwxq8qTqAR7eG',\n",
       "  'spotify:track:0PUK8Azwx64hT0J5aQosyp',\n",
       "  'spotify:track:73jVPicY2G9YHmzgjk69ae',\n",
       "  'spotify:track:5WSdMcWTKRdN1QYVJHJWxz',\n",
       "  'spotify:track:6OPOa3qlKoDUzGpS8MrcLi',\n",
       "  'spotify:track:2TXp7hMoTIfHtU1u99XwJQ',\n",
       "  'spotify:track:6FzUX4kFBss56SSjAsLi7t',\n",
       "  'spotify:track:6wNeKPXF0RDKyvfKfri5hf',\n",
       "  'spotify:track:3K1tdhoeE6koNnWgAxEK9Y',\n",
       "  'spotify:track:3fo6DYGktjENCiagUeU9yH',\n",
       "  'spotify:track:0CyRloqqjpeKEAd3cO6J6z',\n",
       "  'spotify:track:3b00LSFIRqnHvkoDEs5fkg',\n",
       "  'spotify:track:2x8D2KLYFsVcj0FvR6kKrt',\n",
       "  'spotify:track:5B5jtWqmm6jtpu0aHoU67Q',\n",
       "  'spotify:track:439Sha1qsI2OfCWLvmqPdo',\n",
       "  'spotify:track:3ZReTtt0VD8uMGbpUTUy6q',\n",
       "  'spotify:track:6mxn1MJdTs3LEJSC9QyGOe',\n",
       "  'spotify:track:02iZJRlOZ7VRbzO8uVdOva',\n",
       "  'spotify:track:5mXcLmgkTDJeSSqDMQnhUh',\n",
       "  'spotify:track:2UiPa2Dc6w4EyWtDxP07UQ',\n",
       "  'spotify:track:7vJRHZP1PuNwjUcoCsWlul',\n",
       "  'spotify:track:0djZ2ndRfAL69WYNra5jRC',\n",
       "  'spotify:track:7tB8GMRYdRx1k4dl5cWHMz',\n",
       "  'spotify:track:4sebUbjqbcgDSwG6PbSGI0',\n",
       "  'spotify:track:1SelvzeWuIm8n2yRUpFKl5',\n",
       "  'spotify:track:75jHGZkVYcbLDlS1SQkWgz',\n",
       "  'spotify:track:64TjzuxG5PJ7payjphrOC0',\n",
       "  'spotify:track:0w5Bdu51Ka25Pf3hojsKHh',\n",
       "  'spotify:track:7BpYWzZwrsljT1eIjb0TqR',\n",
       "  'spotify:track:3xrwXWG4O9uhtRyAd3MCou',\n",
       "  'spotify:track:163F4SPkExGwITk7VKz5sp',\n",
       "  'spotify:track:2r12KCHNv0p7JQJsGt3vYK',\n",
       "  'spotify:track:1vcAHEXL5Cl9TUk0ESvWnN',\n",
       "  'spotify:track:1WMBlpjhd3AUQiNfJOzfIl',\n",
       "  'spotify:track:0TnCrXaJoS0SqT3IZbsBG5',\n",
       "  'spotify:track:0tICYNayWWhH9GPeFrfjfD',\n",
       "  'spotify:track:0HbbEDAkMcOxj6DUk8vLg7',\n",
       "  'spotify:track:3bC8SlWgL1jNz4l0yayczo',\n",
       "  'spotify:track:6ukvsBzq4d1vBsAUmz7ZVt',\n",
       "  'spotify:track:3DJzbnITxJVoLjtYGu4NeV',\n",
       "  'spotify:track:45h4cCw7ccsRXb0Orle2an',\n",
       "  'spotify:track:4hxemf0pE0mSzubgsfRLWu',\n",
       "  'spotify:track:6fOqEAXCwboCO4BdzbZG1K',\n",
       "  'spotify:track:7BHPGtpuuWWsvE7cCaMuEU',\n",
       "  'spotify:track:7bhSQqbyUvFVfmXgkF028O',\n",
       "  'spotify:track:5EZlmpJljQXxfqA9RuCikf',\n",
       "  'spotify:track:4yjj5S4SvCNYBtTldjWoyc',\n",
       "  'spotify:track:6vHKM8ZqcRyHAOfODTxT0x',\n",
       "  'spotify:track:08BwE47bKpz62bfSiDXO2w',\n",
       "  'spotify:track:4BdGO1CaObRD4La9l5Zanz',\n",
       "  'spotify:track:3VVyLteHZ5xmQrdlltkT89',\n",
       "  'spotify:track:2ksxhKbBfirRHWXGuAi13E',\n",
       "  'spotify:track:2a56L9B8RtB4vhzXCYAFFU',\n",
       "  'spotify:track:2vupkXhwL4sNCRgNu72HCZ',\n",
       "  'spotify:track:5w6amHqMxl0yFEkhsZt0Tk',\n",
       "  'spotify:track:6tEfE6AC7sc2rN6q2QtPvc',\n",
       "  'spotify:track:7tfdE7sUbVkPhfAK3rwyc2',\n",
       "  'spotify:track:0W1HaTl2XJuBHYbXRUukMW',\n",
       "  'spotify:track:41d2Q6DHcM20OdzynkRtvf',\n",
       "  'spotify:track:0z3BU9oHMU7M1YgQHfoylN',\n",
       "  'spotify:track:4dHbvCkrv6E5Wx4tvfp4FW',\n",
       "  'spotify:track:3FYdV1EBv5PDyQy9630ntq',\n",
       "  'spotify:track:5KzuAU7zxcP0bq0CPdRRyr',\n",
       "  'spotify:track:6gLQrU5bvwPf6BTlCSO6x2',\n",
       "  'spotify:track:3JxaZPq4UjkOaxnpyMUtAC',\n",
       "  'spotify:track:0b1WDEm8pNMoSGa3Je0sqW',\n",
       "  'spotify:track:67ispalOAo3jnZWYSTTfZk',\n",
       "  'spotify:track:42ADpNS02UiRbRGyRYypFS',\n",
       "  'spotify:track:2HPIDjDNCCSqSzIjxGaU6J',\n",
       "  'spotify:track:1LD52Nzt9wg1vB3F6gelPH',\n",
       "  'spotify:track:0MWyFQhXx0n5cACIkk11SZ',\n",
       "  'spotify:track:7kx3bnxJypEb4RuRj9s8Kv',\n",
       "  'spotify:track:1o2DMB5ZGoKV767eMx8bPf',\n",
       "  'spotify:track:24Rl1EUg5y9uym2rI3DL3r',\n",
       "  'spotify:track:0qnOjNW04qpcgXqD9dwru2',\n",
       "  'spotify:track:0N4RL8OFtthWHPY7QuRywo',\n",
       "  'spotify:track:0t2GEFoSYzzU41BCBbn006',\n",
       "  'spotify:track:1acb8u70kClk6NjITaZyuG',\n",
       "  'spotify:track:5ufOMPVpnpGNeMyGgOej68']}"
      ]
     },
     "execution_count": 11,
     "metadata": {},
     "output_type": "execute_result"
    }
   ],
   "source": [
    "preprocessed_playlists[0]"
   ]
  },
  {
   "cell_type": "markdown",
   "metadata": {},
   "source": [
    "## Split Dataset\n",
    "After preprocessing, we need to split our dataset into training, validation, and test sets. This is crucial for training our model effectively and evaluating its performance. The function split_dataset(playlists, test_size=0.1, validation_size=0.1) handles this task, ensuring that we have a balanced split."
   ]
  },
  {
   "cell_type": "code",
   "execution_count": 16,
   "metadata": {},
   "outputs": [],
   "source": [
    "def split_dataset(playlists, test_size=0.1, validation_size=0.1):\n",
    "    train_val, test = train_test_split(playlists, test_size=test_size, random_state=42)\n",
    "    train, validation = train_test_split(train_val, test_size=validation_size/(1-test_size), random_state=42)\n",
    "    return train, validation, test\n",
    "\n",
    "train, validation, test = split_dataset(preprocessed_playlists)"
   ]
  },
  {
   "cell_type": "markdown",
   "metadata": {},
   "source": [
    "## Save Preprocessed Data\n",
    "Once the playlists are preprocessed and split, we save them to disk for future use in model training and evaluation. The function save_dataset(datasets, directory_path) saves the data in JSON format, making it easy to load and use in various stages of the project."
   ]
  },
  {
   "cell_type": "code",
   "execution_count": 18,
   "metadata": {},
   "outputs": [],
   "source": [
    "def save_dataset(datasets, directory_path):\n",
    "    for name, data in datasets.items():\n",
    "        with open(os.path.join(directory_path, f\"{name}.json\"), 'w') as f:\n",
    "            json.dump(data, f, ensure_ascii=False, indent=4)\n",
    "\n",
    "save_path = '/Users/bestricemossberg/Projects/automated-playlist-description-generation-system/datasets' # Replace with the path to save preprocessed data\n",
    "save_dataset({'train': train, 'validation': validation, 'test': test}, save_path)"
   ]
  },
  {
   "cell_type": "markdown",
   "metadata": {},
   "source": [
    "## Main Workflow\n",
    "The main workflow orchestrates the loading, preprocessing, splitting, and saving of the Spotify Million Playlist Dataset. This ensures that the dataset is ready for use in training models capable of generating meaningful and relevant playlist titles based on the tracks they contain."
   ]
  },
  {
   "cell_type": "code",
   "execution_count": null,
   "metadata": {},
   "outputs": [],
   "source": [
    "if __name__ == \"__main__\":\n",
    "    dataset_path = \"path/to/spotify_million_playlist_dataset\"\n",
    "    output_path = \"path/to/preprocessed_dataset\"\n",
    "    playlists = load_spotify_dataset(dataset_path)\n",
    "    preprocessed_playlists = preprocess_playlists(playlists)\n",
    "    train, validation, test = split_dataset(preprocessed_playlists)\n",
    "    save_dataset({'train': train, 'validation': validation, 'test': test}, output_path)\n"
   ]
  },
  {
   "cell_type": "markdown",
   "metadata": {},
   "source": [
    "This notebook provides a structured approach to preparing the Spotify Million Playlist Dataset for the task of generating playlist descriptions, adhering to the preprocessing criteria specified in the study."
   ]
  },
  {
   "cell_type": "markdown",
   "metadata": {},
   "source": []
  }
 ],
 "metadata": {
  "kernelspec": {
   "display_name": "venv",
   "language": "python",
   "name": "python3"
  },
  "language_info": {
   "codemirror_mode": {
    "name": "ipython",
    "version": 3
   },
   "file_extension": ".py",
   "mimetype": "text/x-python",
   "name": "python",
   "nbconvert_exporter": "python",
   "pygments_lexer": "ipython3",
   "version": "3.9.6"
  }
 },
 "nbformat": 4,
 "nbformat_minor": 2
}
