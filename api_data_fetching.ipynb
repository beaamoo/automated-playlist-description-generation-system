{
 "cells": [
  {
   "cell_type": "markdown",
   "metadata": {},
   "source": [
    "# Spotify API Data Fetching Exploration\n",
    "\n",
    "This notebook is dedicated to exploring data fetching from the Spotify Web API, focusing on retrieving a user's top tracks. Credentials are securely managed using a `.env` file and the `python-dotenv` library.\n"
   ]
  },
  {
   "cell_type": "code",
   "execution_count": null,
   "metadata": {},
   "outputs": [],
   "source": [
    "#pip install requests"
   ]
  },
  {
   "cell_type": "code",
   "execution_count": 30,
   "metadata": {},
   "outputs": [
    {
     "data": {
      "text/plain": [
       "True"
      ]
     },
     "execution_count": 30,
     "metadata": {},
     "output_type": "execute_result"
    }
   ],
   "source": [
    "import os\n",
    "import requests\n",
    "from dotenv import load_dotenv\n",
    "\n",
    "# Load environment variables\n",
    "load_dotenv()"
   ]
  },
  {
   "cell_type": "markdown",
   "metadata": {},
   "source": [
    "## Configuration\n",
    "\n",
    "Load the Spotify API token from environment variables to use in API requests.\n"
   ]
  },
  {
   "cell_type": "code",
   "execution_count": 31,
   "metadata": {},
   "outputs": [],
   "source": [
    "SPOTIFY_CLIENT_ID = os.getenv(\"SPOTIFY_CLIENT_ID\")\n",
    "SPOTIFY_CLIENT_SECRET = os.getenv(\"SPOTIFY_CLIENT_SECRET\")"
   ]
  },
  {
   "cell_type": "markdown",
   "metadata": {},
   "source": [
    "## Fetching Data from Spotify API\n",
    "\n",
    "Define a function to fetch a playlist using the Spotify API.\n"
   ]
  },
  {
   "cell_type": "code",
   "execution_count": 33,
   "metadata": {},
   "outputs": [],
   "source": [
    "import requests\n",
    "from base64 import b64encode\n",
    "\n",
    "class SpotifyAPI:\n",
    "    token_url = 'https://accounts.spotify.com/api/token'\n",
    "\n",
    "    def __init__(self, client_id, client_secret):\n",
    "        self.client_id = client_id\n",
    "        self.client_secret = client_secret\n",
    "        self.access_token = None\n",
    "\n",
    "    def get_token(self):\n",
    "        client_creds = f\"{self.client_id}:{self.client_secret}\"\n",
    "        client_creds_b64 = b64encode(client_creds.encode()).decode()\n",
    "\n",
    "        headers = {\n",
    "            \"Authorization\": f\"Basic {client_creds_b64}\"\n",
    "        }\n",
    "        data = {\n",
    "            \"grant_type\": \"client_credentials\"\n",
    "        }\n",
    "        r = requests.post(self.token_url, headers=headers, data=data)\n",
    "        if r.status_code == 200:\n",
    "            self.access_token = r.json()['access_token']\n",
    "        else:\n",
    "            raise Exception(\"Could not authenticate client\")\n",
    "\n",
    "    def fetch_playlist_details(self, playlist_id):\n",
    "        if self.access_token is None:\n",
    "            self.get_token()\n",
    "        \n",
    "        endpoint = f\"https://api.spotify.com/v1/playlists/{playlist_id}\"\n",
    "        headers = {\n",
    "            \"Authorization\": f\"Bearer {self.access_token}\"\n",
    "        }\n",
    "        response = requests.get(endpoint, headers=headers)\n",
    "        if response.status_code == 200:\n",
    "            return response.json()\n",
    "        else:\n",
    "            return None"
   ]
  },
  {
   "cell_type": "code",
   "execution_count": 35,
   "metadata": {},
   "outputs": [
    {
     "name": "stdout",
     "output_type": "stream",
     "text": [
      "Playlist: Spotify Web API Testing playlist - A playlist for testing pourposes\n",
      "Tracks:\n",
      "Api by Odiseo\n",
      "Is by Vlasta Marek\n",
      "All I Want by LCD Soundsystem\n",
      "Endpoints by Glenn Horiuchi Trio\n",
      "You Are So Beautiful by Zucchero\n"
     ]
    }
   ],
   "source": [
    "# Specify a playlist ID\n",
    "playlist_id = '3cEYpjA9oz9GiPac4AsH4n'\n",
    "\n",
    "# Create a SpotifyAPI instance\n",
    "spotify = SpotifyAPI(SPOTIFY_CLIENT_ID, SPOTIFY_CLIENT_SECRET)\n",
    "playlist_details = spotify.fetch_playlist_details(playlist_id)\n",
    "\n",
    "if playlist_details:\n",
    "    # Print playlist title and a summary of its tracks\n",
    "    print(f\"Playlist: {playlist_details['name']} - {playlist_details['description']}\")\n",
    "    print(\"Tracks:\")\n",
    "    for item in playlist_details['tracks']['items']:\n",
    "        track = item['track']\n",
    "        print(f\"{track['name']} by {', '.join(artist['name'] for artist in track['artists'])}\")\n",
    "else:\n",
    "    print(\"Failed to fetch playlist details.\")"
   ]
  },
  {
   "cell_type": "markdown",
   "metadata": {},
   "source": [
    "## Conclusion\n",
    "\n",
    "This notebook demonstrated how to securely fetch and display a user's top tracks from the Spotify API using Python. Leveraging environment variables for credential management.\n"
   ]
  },
  {
   "cell_type": "markdown",
   "metadata": {},
   "source": []
  }
 ],
 "metadata": {
  "kernelspec": {
   "display_name": "venv",
   "language": "python",
   "name": "python3"
  },
  "language_info": {
   "codemirror_mode": {
    "name": "ipython",
    "version": 3
   },
   "file_extension": ".py",
   "mimetype": "text/x-python",
   "name": "python",
   "nbconvert_exporter": "python",
   "pygments_lexer": "ipython3",
   "version": "3.9.6"
  }
 },
 "nbformat": 4,
 "nbformat_minor": 2
}
